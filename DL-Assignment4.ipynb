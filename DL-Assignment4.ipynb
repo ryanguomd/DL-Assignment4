{
 "cells": [
  {
   "cell_type": "code",
   "execution_count": 2,
   "metadata": {
    "colab": {
     "base_uri": "https://localhost:8080/",
     "height": 393
    },
    "id": "cmZtt5B65_cF",
    "outputId": "ba657920-4eb0-4d21-e7bd-b28af6b51f47"
   },
   "outputs": [],
   "source": [
    "# Data & Preprocessing\n",
    "import numpy as np\n",
    "import pandas as pd\n",
    "import tensorflow as tf\n",
    "from ucimlrepo import fetch_ucirepo\n",
    "from sklearn.model_selection import train_test_split\n",
    "from sklearn.preprocessing import StandardScaler\n",
    "from tensorflow.keras import Input, Model\n",
    "from tensorflow.keras.layers import Dense, Add"
   ]
  },
  {
   "cell_type": "code",
   "execution_count": 4,
   "metadata": {},
   "outputs": [
    {
     "name": "stdout",
     "output_type": "stream",
     "text": [
      "{'uci_id': 31, 'name': 'Covertype', 'repository_url': 'https://archive.ics.uci.edu/dataset/31/covertype', 'data_url': 'https://archive.ics.uci.edu/static/public/31/data.csv', 'abstract': 'Classification of pixels into 7 forest cover types based on attributes such as elevation, aspect, slope, hillshade, soil-type, and more.', 'area': 'Biology', 'tasks': ['Classification'], 'characteristics': ['Multivariate'], 'num_instances': 581012, 'num_features': 54, 'feature_types': ['Categorical', 'Integer'], 'demographics': [], 'target_col': ['Cover_Type'], 'index_col': None, 'has_missing_values': 'no', 'missing_values_symbol': None, 'year_of_dataset_creation': 1998, 'last_updated': 'Sat Mar 16 2024', 'dataset_doi': '10.24432/C50K5N', 'creators': ['Jock Blackard'], 'intro_paper': None, 'additional_info': {'summary': 'Predicting forest cover type from cartographic variables only (no remotely sensed data).  The actual forest cover type for a given observation (30 x 30 meter cell) was determined from US Forest Service (USFS) Region 2 Resource Information System (RIS) data.  Independent variables were derived from data originally obtained from US Geological Survey (USGS) and USFS data.  Data is in raw form (not scaled) and contains binary (0 or 1) columns of data for qualitative independent variables (wilderness areas and soil types).\\r\\n\\r\\nThis study area includes four wilderness areas located in the Roosevelt National Forest of northern Colorado.  These areas represent forests with minimal human-caused disturbances, so that existing forest cover types are more a result of ecological processes rather than forest management practices.\\r\\n\\r\\nSome background information for these four wilderness areas: Neota (area 2) probably has the highest mean elevational value of the 4 wilderness areas. Rawah (area 1) and Comanche Peak (area 3) would have a lower mean elevational value, while Cache la Poudre (area 4) would have the lowest mean elevational value. \\r\\n\\r\\nAs for primary major tree species in these areas, Neota would have spruce/fir (type 1), while Rawah and Comanche Peak would probably have lodgepole pine (type 2) as their primary species, followed by spruce/fir and aspen (type 5). Cache la Poudre would tend to have Ponderosa pine (type 3), Douglas-fir (type 6), and cottonwood/willow (type 4).  \\r\\n\\r\\nThe Rawah and Comanche Peak areas would tend to be more typical of the overall dataset than either the Neota or Cache la Poudre, due to their assortment of tree species and range of predictive variable values (elevation, etc.)  Cache la Poudre would probably  be more unique than the others, due to its relatively low  elevation range and species composition. ', 'purpose': None, 'funded_by': None, 'instances_represent': None, 'recommended_data_splits': None, 'sensitive_data': None, 'preprocessing_description': None, 'variable_info': 'Given is the attribute name, attribute type, the measurement unit and a brief description.  The forest cover type is the classification  problem.  The order of this listing corresponds to the order of numerals along the rows of the database.\\r\\n\\r\\nName / Data Type / Measurement / Description\\r\\n\\r\\nElevation / quantitative /meters / Elevation in meters\\r\\nAspect / quantitative / azimuth / Aspect in degrees azimuth\\r\\nSlope / quantitative / degrees / Slope in degrees\\r\\nHorizontal_Distance_To_Hydrology / quantitative / meters / Horz Dist to nearest surface water features\\r\\nVertical_Distance_To_Hydrology / quantitative / meters / Vert Dist to nearest surface water features\\r\\nHorizontal_Distance_To_Roadways / quantitative / meters / Horz Dist to nearest roadway\\r\\nHillshade_9am / quantitative / 0 to 255 index / Hillshade index at 9am, summer solstice\\r\\nHillshade_Noon / quantitative / 0 to 255 index / Hillshade index at noon, summer soltice\\r\\nHillshade_3pm / quantitative / 0 to 255 index / Hillshade index at 3pm, summer solstice\\r\\nHorizontal_Distance_To_Fire_Points / quantitative / meters / Horz Dist to nearest wildfire ignition points\\r\\nWilderness_Area (4 binary columns) / qualitative / 0 (absence) or 1 (presence) / Wilderness area designation\\r\\nSoil_Type (40 binary columns) / qualitative / 0 (absence) or 1 (presence) / Soil Type designation\\r\\nCover_Type (7 types) / integer / 1 to 7 / Forest Cover Type designation', 'citation': None}}\n",
      "                                  name     role     type demographic  \\\n",
      "0                            Elevation  Feature  Integer        None   \n",
      "1                               Aspect  Feature  Integer        None   \n",
      "2                                Slope  Feature  Integer        None   \n",
      "3     Horizontal_Distance_To_Hydrology  Feature  Integer        None   \n",
      "4       Vertical_Distance_To_Hydrology  Feature  Integer        None   \n",
      "5      Horizontal_Distance_To_Roadways  Feature  Integer        None   \n",
      "6                        Hillshade_9am  Feature  Integer        None   \n",
      "7                       Hillshade_Noon  Feature  Integer        None   \n",
      "8                        Hillshade_3pm  Feature  Integer        None   \n",
      "9   Horizontal_Distance_To_Fire_Points  Feature  Integer        None   \n",
      "10                    Wilderness_Area1  Feature  Integer        None   \n",
      "11                          Soil_Type1  Feature  Integer        None   \n",
      "12                          Soil_Type2  Feature  Integer        None   \n",
      "13                          Soil_Type3  Feature  Integer        None   \n",
      "14                          Soil_Type4  Feature  Integer        None   \n",
      "15                          Soil_Type5  Feature  Integer        None   \n",
      "16                          Soil_Type6  Feature  Integer        None   \n",
      "17                          Soil_Type7  Feature  Integer        None   \n",
      "18                          Soil_Type8  Feature  Integer        None   \n",
      "19                          Soil_Type9  Feature  Integer        None   \n",
      "20                         Soil_Type10  Feature  Integer        None   \n",
      "21                         Soil_Type11  Feature  Integer        None   \n",
      "22                         Soil_Type12  Feature  Integer        None   \n",
      "23                         Soil_Type13  Feature  Integer        None   \n",
      "24                         Soil_Type14  Feature  Integer        None   \n",
      "25                         Soil_Type15  Feature  Integer        None   \n",
      "26                         Soil_Type16  Feature  Integer        None   \n",
      "27                         Soil_Type17  Feature  Integer        None   \n",
      "28                         Soil_Type18  Feature  Integer        None   \n",
      "29                         Soil_Type19  Feature  Integer        None   \n",
      "30                         Soil_Type20  Feature  Integer        None   \n",
      "31                         Soil_Type21  Feature  Integer        None   \n",
      "32                         Soil_Type22  Feature  Integer        None   \n",
      "33                         Soil_Type23  Feature  Integer        None   \n",
      "34                         Soil_Type24  Feature  Integer        None   \n",
      "35                         Soil_Type25  Feature  Integer        None   \n",
      "36                         Soil_Type26  Feature  Integer        None   \n",
      "37                         Soil_Type27  Feature  Integer        None   \n",
      "38                         Soil_Type28  Feature  Integer        None   \n",
      "39                         Soil_Type29  Feature  Integer        None   \n",
      "40                         Soil_Type30  Feature  Integer        None   \n",
      "41                         Soil_Type31  Feature  Integer        None   \n",
      "42                         Soil_Type32  Feature  Integer        None   \n",
      "43                         Soil_Type33  Feature  Integer        None   \n",
      "44                         Soil_Type34  Feature  Integer        None   \n",
      "45                         Soil_Type35  Feature  Integer        None   \n",
      "46                         Soil_Type36  Feature  Integer        None   \n",
      "47                         Soil_Type37  Feature  Integer        None   \n",
      "48                         Soil_Type38  Feature  Integer        None   \n",
      "49                         Soil_Type39  Feature  Integer        None   \n",
      "50                         Soil_Type40  Feature  Integer        None   \n",
      "51                          Cover_Type   Target  Integer        None   \n",
      "52                    Wilderness_Area2  Feature  Integer        None   \n",
      "53                    Wilderness_Area3  Feature  Integer        None   \n",
      "54                    Wilderness_Area4  Feature  Integer        None   \n",
      "\n",
      "   description units missing_values  \n",
      "0         None  None             no  \n",
      "1         None  None             no  \n",
      "2         None  None             no  \n",
      "3         None  None             no  \n",
      "4         None  None             no  \n",
      "5         None  None             no  \n",
      "6         None  None             no  \n",
      "7         None  None             no  \n",
      "8         None  None             no  \n",
      "9         None  None             no  \n",
      "10        None  None             no  \n",
      "11        None  None             no  \n",
      "12        None  None             no  \n",
      "13        None  None             no  \n",
      "14        None  None             no  \n",
      "15        None  None             no  \n",
      "16        None  None             no  \n",
      "17        None  None             no  \n",
      "18        None  None             no  \n",
      "19        None  None             no  \n",
      "20        None  None             no  \n",
      "21        None  None             no  \n",
      "22        None  None             no  \n",
      "23        None  None             no  \n",
      "24        None  None             no  \n",
      "25        None  None             no  \n",
      "26        None  None             no  \n",
      "27        None  None             no  \n",
      "28        None  None             no  \n",
      "29        None  None             no  \n",
      "30        None  None             no  \n",
      "31        None  None             no  \n",
      "32        None  None             no  \n",
      "33        None  None             no  \n",
      "34        None  None             no  \n",
      "35        None  None             no  \n",
      "36        None  None             no  \n",
      "37        None  None             no  \n",
      "38        None  None             no  \n",
      "39        None  None             no  \n",
      "40        None  None             no  \n",
      "41        None  None             no  \n",
      "42        None  None             no  \n",
      "43        None  None             no  \n",
      "44        None  None             no  \n",
      "45        None  None             no  \n",
      "46        None  None             no  \n",
      "47        None  None             no  \n",
      "48        None  None             no  \n",
      "49        None  None             no  \n",
      "50        None  None             no  \n",
      "51        None  None             no  \n",
      "52        None  None             no  \n",
      "53        None  None             no  \n",
      "54        None  None             no  \n"
     ]
    }
   ],
   "source": [
    "# fetch dataset \n",
    "covertype = fetch_ucirepo(id=31) \n",
    "  \n",
    "# data (as pandas dataframes) \n",
    "X = covertype.data.features \n",
    "y = covertype.data.targets \n",
    "  \n",
    "# metadata \n",
    "print(covertype.metadata) \n",
    "  \n",
    "# variable information \n",
    "print(covertype.variables) "
   ]
  },
  {
   "cell_type": "code",
   "execution_count": 6,
   "metadata": {},
   "outputs": [],
   "source": [
    "# Preprocessing\n",
    "# Normalize numerical features\n",
    "scaler = StandardScaler()\n",
    "X_scaled = scaler.fit_transform(X)\n",
    "\n",
    "# Train-validation split\n",
    "y_binary = (y.iloc[:, 0] == 1).astype(int)\n",
    "X_train, X_val, y_train, y_val = train_test_split(X_scaled, y_binary, test_size=0.2, random_state=42)"
   ]
  },
  {
   "cell_type": "code",
   "execution_count": 8,
   "id": "f776a1c2",
   "metadata": {},
   "outputs": [
    {
     "data": {
      "text/html": [
       "<pre style=\"white-space:pre;overflow-x:auto;line-height:normal;font-family:Menlo,'DejaVu Sans Mono',consolas,'Courier New',monospace\"><span style=\"font-weight: bold\">Model: \"functional\"</span>\n",
       "</pre>\n"
      ],
      "text/plain": [
       "\u001b[1mModel: \"functional\"\u001b[0m\n"
      ]
     },
     "metadata": {},
     "output_type": "display_data"
    },
    {
     "data": {
      "text/html": [
       "<pre style=\"white-space:pre;overflow-x:auto;line-height:normal;font-family:Menlo,'DejaVu Sans Mono',consolas,'Courier New',monospace\">┏━━━━━━━━━━━━━━━━━━━━━┳━━━━━━━━━━━━━━━━━━━┳━━━━━━━━━━━━┳━━━━━━━━━━━━━━━━━━━┓\n",
       "┃<span style=\"font-weight: bold\"> Layer (type)        </span>┃<span style=\"font-weight: bold\"> Output Shape      </span>┃<span style=\"font-weight: bold\">    Param # </span>┃<span style=\"font-weight: bold\"> Connected to      </span>┃\n",
       "┡━━━━━━━━━━━━━━━━━━━━━╇━━━━━━━━━━━━━━━━━━━╇━━━━━━━━━━━━╇━━━━━━━━━━━━━━━━━━━┩\n",
       "│ input_layer         │ (<span style=\"color: #00d7ff; text-decoration-color: #00d7ff\">None</span>, <span style=\"color: #00af00; text-decoration-color: #00af00\">54</span>)        │          <span style=\"color: #00af00; text-decoration-color: #00af00\">0</span> │ -                 │\n",
       "│ (<span style=\"color: #0087ff; text-decoration-color: #0087ff\">InputLayer</span>)        │                   │            │                   │\n",
       "├─────────────────────┼───────────────────┼────────────┼───────────────────┤\n",
       "│ initial_dense       │ (<span style=\"color: #00d7ff; text-decoration-color: #00d7ff\">None</span>, <span style=\"color: #00af00; text-decoration-color: #00af00\">32</span>)        │      <span style=\"color: #00af00; text-decoration-color: #00af00\">1,760</span> │ input_layer[<span style=\"color: #00af00; text-decoration-color: #00af00\">0</span>][<span style=\"color: #00af00; text-decoration-color: #00af00\">0</span>] │\n",
       "│ (<span style=\"color: #0087ff; text-decoration-color: #0087ff\">Dense</span>)             │                   │            │                   │\n",
       "├─────────────────────┼───────────────────┼────────────┼───────────────────┤\n",
       "│ res_dense_1 (<span style=\"color: #0087ff; text-decoration-color: #0087ff\">Dense</span>) │ (<span style=\"color: #00d7ff; text-decoration-color: #00d7ff\">None</span>, <span style=\"color: #00af00; text-decoration-color: #00af00\">32</span>)        │      <span style=\"color: #00af00; text-decoration-color: #00af00\">1,056</span> │ initial_dense[<span style=\"color: #00af00; text-decoration-color: #00af00\">0</span>]… │\n",
       "├─────────────────────┼───────────────────┼────────────┼───────────────────┤\n",
       "│ res_dense_2 (<span style=\"color: #0087ff; text-decoration-color: #0087ff\">Dense</span>) │ (<span style=\"color: #00d7ff; text-decoration-color: #00d7ff\">None</span>, <span style=\"color: #00af00; text-decoration-color: #00af00\">32</span>)        │      <span style=\"color: #00af00; text-decoration-color: #00af00\">1,056</span> │ res_dense_1[<span style=\"color: #00af00; text-decoration-color: #00af00\">0</span>][<span style=\"color: #00af00; text-decoration-color: #00af00\">0</span>] │\n",
       "├─────────────────────┼───────────────────┼────────────┼───────────────────┤\n",
       "│ Residual_Add (<span style=\"color: #0087ff; text-decoration-color: #0087ff\">Add</span>)  │ (<span style=\"color: #00d7ff; text-decoration-color: #00d7ff\">None</span>, <span style=\"color: #00af00; text-decoration-color: #00af00\">32</span>)        │          <span style=\"color: #00af00; text-decoration-color: #00af00\">0</span> │ initial_dense[<span style=\"color: #00af00; text-decoration-color: #00af00\">0</span>]… │\n",
       "│                     │                   │            │ res_dense_2[<span style=\"color: #00af00; text-decoration-color: #00af00\">0</span>][<span style=\"color: #00af00; text-decoration-color: #00af00\">0</span>] │\n",
       "├─────────────────────┼───────────────────┼────────────┼───────────────────┤\n",
       "│ intermediate_dense  │ (<span style=\"color: #00d7ff; text-decoration-color: #00d7ff\">None</span>, <span style=\"color: #00af00; text-decoration-color: #00af00\">16</span>)        │        <span style=\"color: #00af00; text-decoration-color: #00af00\">528</span> │ Residual_Add[<span style=\"color: #00af00; text-decoration-color: #00af00\">0</span>][<span style=\"color: #00af00; text-decoration-color: #00af00\">…</span> │\n",
       "│ (<span style=\"color: #0087ff; text-decoration-color: #0087ff\">Dense</span>)             │                   │            │                   │\n",
       "├─────────────────────┼───────────────────┼────────────┼───────────────────┤\n",
       "│ Skip_Proj (<span style=\"color: #0087ff; text-decoration-color: #0087ff\">Dense</span>)   │ (<span style=\"color: #00d7ff; text-decoration-color: #00d7ff\">None</span>, <span style=\"color: #00af00; text-decoration-color: #00af00\">16</span>)        │        <span style=\"color: #00af00; text-decoration-color: #00af00\">528</span> │ initial_dense[<span style=\"color: #00af00; text-decoration-color: #00af00\">0</span>]… │\n",
       "├─────────────────────┼───────────────────┼────────────┼───────────────────┤\n",
       "│ Skip_Add (<span style=\"color: #0087ff; text-decoration-color: #0087ff\">Add</span>)      │ (<span style=\"color: #00d7ff; text-decoration-color: #00d7ff\">None</span>, <span style=\"color: #00af00; text-decoration-color: #00af00\">16</span>)        │          <span style=\"color: #00af00; text-decoration-color: #00af00\">0</span> │ intermediate_den… │\n",
       "│                     │                   │            │ Skip_Proj[<span style=\"color: #00af00; text-decoration-color: #00af00\">0</span>][<span style=\"color: #00af00; text-decoration-color: #00af00\">0</span>]   │\n",
       "├─────────────────────┼───────────────────┼────────────┼───────────────────┤\n",
       "│ Output (<span style=\"color: #0087ff; text-decoration-color: #0087ff\">Dense</span>)      │ (<span style=\"color: #00d7ff; text-decoration-color: #00d7ff\">None</span>, <span style=\"color: #00af00; text-decoration-color: #00af00\">1</span>)         │         <span style=\"color: #00af00; text-decoration-color: #00af00\">17</span> │ Skip_Add[<span style=\"color: #00af00; text-decoration-color: #00af00\">0</span>][<span style=\"color: #00af00; text-decoration-color: #00af00\">0</span>]    │\n",
       "└─────────────────────┴───────────────────┴────────────┴───────────────────┘\n",
       "</pre>\n"
      ],
      "text/plain": [
       "┏━━━━━━━━━━━━━━━━━━━━━┳━━━━━━━━━━━━━━━━━━━┳━━━━━━━━━━━━┳━━━━━━━━━━━━━━━━━━━┓\n",
       "┃\u001b[1m \u001b[0m\u001b[1mLayer (type)       \u001b[0m\u001b[1m \u001b[0m┃\u001b[1m \u001b[0m\u001b[1mOutput Shape     \u001b[0m\u001b[1m \u001b[0m┃\u001b[1m \u001b[0m\u001b[1m   Param #\u001b[0m\u001b[1m \u001b[0m┃\u001b[1m \u001b[0m\u001b[1mConnected to     \u001b[0m\u001b[1m \u001b[0m┃\n",
       "┡━━━━━━━━━━━━━━━━━━━━━╇━━━━━━━━━━━━━━━━━━━╇━━━━━━━━━━━━╇━━━━━━━━━━━━━━━━━━━┩\n",
       "│ input_layer         │ (\u001b[38;5;45mNone\u001b[0m, \u001b[38;5;34m54\u001b[0m)        │          \u001b[38;5;34m0\u001b[0m │ -                 │\n",
       "│ (\u001b[38;5;33mInputLayer\u001b[0m)        │                   │            │                   │\n",
       "├─────────────────────┼───────────────────┼────────────┼───────────────────┤\n",
       "│ initial_dense       │ (\u001b[38;5;45mNone\u001b[0m, \u001b[38;5;34m32\u001b[0m)        │      \u001b[38;5;34m1,760\u001b[0m │ input_layer[\u001b[38;5;34m0\u001b[0m][\u001b[38;5;34m0\u001b[0m] │\n",
       "│ (\u001b[38;5;33mDense\u001b[0m)             │                   │            │                   │\n",
       "├─────────────────────┼───────────────────┼────────────┼───────────────────┤\n",
       "│ res_dense_1 (\u001b[38;5;33mDense\u001b[0m) │ (\u001b[38;5;45mNone\u001b[0m, \u001b[38;5;34m32\u001b[0m)        │      \u001b[38;5;34m1,056\u001b[0m │ initial_dense[\u001b[38;5;34m0\u001b[0m]… │\n",
       "├─────────────────────┼───────────────────┼────────────┼───────────────────┤\n",
       "│ res_dense_2 (\u001b[38;5;33mDense\u001b[0m) │ (\u001b[38;5;45mNone\u001b[0m, \u001b[38;5;34m32\u001b[0m)        │      \u001b[38;5;34m1,056\u001b[0m │ res_dense_1[\u001b[38;5;34m0\u001b[0m][\u001b[38;5;34m0\u001b[0m] │\n",
       "├─────────────────────┼───────────────────┼────────────┼───────────────────┤\n",
       "│ Residual_Add (\u001b[38;5;33mAdd\u001b[0m)  │ (\u001b[38;5;45mNone\u001b[0m, \u001b[38;5;34m32\u001b[0m)        │          \u001b[38;5;34m0\u001b[0m │ initial_dense[\u001b[38;5;34m0\u001b[0m]… │\n",
       "│                     │                   │            │ res_dense_2[\u001b[38;5;34m0\u001b[0m][\u001b[38;5;34m0\u001b[0m] │\n",
       "├─────────────────────┼───────────────────┼────────────┼───────────────────┤\n",
       "│ intermediate_dense  │ (\u001b[38;5;45mNone\u001b[0m, \u001b[38;5;34m16\u001b[0m)        │        \u001b[38;5;34m528\u001b[0m │ Residual_Add[\u001b[38;5;34m0\u001b[0m][\u001b[38;5;34m…\u001b[0m │\n",
       "│ (\u001b[38;5;33mDense\u001b[0m)             │                   │            │                   │\n",
       "├─────────────────────┼───────────────────┼────────────┼───────────────────┤\n",
       "│ Skip_Proj (\u001b[38;5;33mDense\u001b[0m)   │ (\u001b[38;5;45mNone\u001b[0m, \u001b[38;5;34m16\u001b[0m)        │        \u001b[38;5;34m528\u001b[0m │ initial_dense[\u001b[38;5;34m0\u001b[0m]… │\n",
       "├─────────────────────┼───────────────────┼────────────┼───────────────────┤\n",
       "│ Skip_Add (\u001b[38;5;33mAdd\u001b[0m)      │ (\u001b[38;5;45mNone\u001b[0m, \u001b[38;5;34m16\u001b[0m)        │          \u001b[38;5;34m0\u001b[0m │ intermediate_den… │\n",
       "│                     │                   │            │ Skip_Proj[\u001b[38;5;34m0\u001b[0m][\u001b[38;5;34m0\u001b[0m]   │\n",
       "├─────────────────────┼───────────────────┼────────────┼───────────────────┤\n",
       "│ Output (\u001b[38;5;33mDense\u001b[0m)      │ (\u001b[38;5;45mNone\u001b[0m, \u001b[38;5;34m1\u001b[0m)         │         \u001b[38;5;34m17\u001b[0m │ Skip_Add[\u001b[38;5;34m0\u001b[0m][\u001b[38;5;34m0\u001b[0m]    │\n",
       "└─────────────────────┴───────────────────┴────────────┴───────────────────┘\n"
      ]
     },
     "metadata": {},
     "output_type": "display_data"
    },
    {
     "data": {
      "text/html": [
       "<pre style=\"white-space:pre;overflow-x:auto;line-height:normal;font-family:Menlo,'DejaVu Sans Mono',consolas,'Courier New',monospace\"><span style=\"font-weight: bold\"> Total params: </span><span style=\"color: #00af00; text-decoration-color: #00af00\">4,945</span> (19.32 KB)\n",
       "</pre>\n"
      ],
      "text/plain": [
       "\u001b[1m Total params: \u001b[0m\u001b[38;5;34m4,945\u001b[0m (19.32 KB)\n"
      ]
     },
     "metadata": {},
     "output_type": "display_data"
    },
    {
     "data": {
      "text/html": [
       "<pre style=\"white-space:pre;overflow-x:auto;line-height:normal;font-family:Menlo,'DejaVu Sans Mono',consolas,'Courier New',monospace\"><span style=\"font-weight: bold\"> Trainable params: </span><span style=\"color: #00af00; text-decoration-color: #00af00\">4,945</span> (19.32 KB)\n",
       "</pre>\n"
      ],
      "text/plain": [
       "\u001b[1m Trainable params: \u001b[0m\u001b[38;5;34m4,945\u001b[0m (19.32 KB)\n"
      ]
     },
     "metadata": {},
     "output_type": "display_data"
    },
    {
     "data": {
      "text/html": [
       "<pre style=\"white-space:pre;overflow-x:auto;line-height:normal;font-family:Menlo,'DejaVu Sans Mono',consolas,'Courier New',monospace\"><span style=\"font-weight: bold\"> Non-trainable params: </span><span style=\"color: #00af00; text-decoration-color: #00af00\">0</span> (0.00 B)\n",
       "</pre>\n"
      ],
      "text/plain": [
       "\u001b[1m Non-trainable params: \u001b[0m\u001b[38;5;34m0\u001b[0m (0.00 B)\n"
      ]
     },
     "metadata": {},
     "output_type": "display_data"
    }
   ],
   "source": [
    "# Build model\n",
    "inputs = Input(shape=(X.shape[1],), name=\"input_layer\")\n",
    "\n",
    "# Initial dense layer\n",
    "x_1 = Dense(32, activation='relu', name=\"initial_dense\")(inputs)\n",
    "\n",
    "# Residual block\n",
    "res = Dense(32, activation='relu', name=\"res_dense_1\")(x_1)\n",
    "res = Dense(32, activation='relu', name=\"res_dense_2\")(res)\n",
    "res_out = Add(name=\"Residual_Add\")([x_1, res])\n",
    "\n",
    "# Intermediate layer\n",
    "x_2 = Dense(16, activation='relu', name=\"intermediate_dense\")(res_out)\n",
    "\n",
    "# Skip connection from x_1 to output\n",
    "skip = Dense(16, activation='relu', name=\"Skip_Proj\")(x_1)\n",
    "skip_out = Add(name=\"Skip_Add\")([x_2, skip])\n",
    "\n",
    "# Final layer\n",
    "output = Dense(1, activation='sigmoid', name=\"Output\")(skip_out)\n",
    "\n",
    "# Compile model\n",
    "model = Model(inputs=inputs, outputs=output)\n",
    "model.compile(optimizer='adam', loss='binary_crossentropy', metrics=['accuracy'])\n",
    "\n",
    "model.summary()"
   ]
  },
  {
   "cell_type": "code",
   "execution_count": 9,
   "id": "6d56596e",
   "metadata": {},
   "outputs": [
    {
     "name": "stderr",
     "output_type": "stream",
     "text": [
      "WARNING:absl:You are saving your model as an HDF5 file via `model.save()` or `keras.saving.save_model(model)`. This file format is considered legacy. We recommend using instead the native Keras format, e.g. `model.save('my_model.keras')` or `keras.saving.save_model(model, 'my_model.keras')`. \n"
     ]
    }
   ],
   "source": [
    "# Save model for Netron\n",
    "model.save(\"model_with_residuals.h5\")"
   ]
  },
  {
   "cell_type": "code",
   "execution_count": 11,
   "id": "bedbb86e",
   "metadata": {},
   "outputs": [
    {
     "name": "stdout",
     "output_type": "stream",
     "text": [
      "\n",
      "Number of parameters: 4945\n",
      "Final training loss: 0.0000\n",
      "Final validation loss: 4.3092\n"
     ]
    }
   ],
   "source": [
    "# Select a batch of 128 samples\n",
    "X_batch = X_train[:128]\n",
    "y_batch = y_train[:128]\n",
    "\n",
    "# Train only on this batch\n",
    "history = model.fit(X_batch, y_batch, epochs=500, verbose=0)\n",
    "\n",
    "# Final training loss\n",
    "train_loss = model.evaluate(X_batch, y_batch, verbose=0)[0]\n",
    "\n",
    "# Validation loss\n",
    "val_loss = model.evaluate(X_val, y_val, verbose=0)[0]\n",
    "\n",
    "# printing results\n",
    "print(f\"\\nNumber of parameters: {model.count_params()}\")\n",
    "print(f\"Final training loss: {train_loss:.4f}\")\n",
    "print(f\"Final validation loss: {val_loss:.4f}\")"
   ]
  }
 ],
 "metadata": {
  "colab": {
   "provenance": []
  },
  "kernelspec": {
   "display_name": "Python 3",
   "name": "python3"
  },
  "language_info": {
   "codemirror_mode": {
    "name": "ipython",
    "version": 3
   },
   "file_extension": ".py",
   "mimetype": "text/x-python",
   "name": "python",
   "nbconvert_exporter": "python",
   "pygments_lexer": "ipython3",
   "version": "3.11.1"
  }
 },
 "nbformat": 4,
 "nbformat_minor": 0
}
